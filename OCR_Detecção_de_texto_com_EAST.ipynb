{
  "nbformat": 4,
  "nbformat_minor": 0,
  "metadata": {
    "colab": {
      "provenance": [],
      "include_colab_link": true
    },
    "kernelspec": {
      "name": "python3",
      "display_name": "Python 3"
    },
    "language_info": {
      "name": "python"
    }
  },
  "cells": [
    {
      "cell_type": "markdown",
      "metadata": {
        "id": "view-in-github",
        "colab_type": "text"
      },
      "source": [
        "<a href=\"https://colab.research.google.com/github/ManciniGa/Aprendizado-Profundo/blob/main/OCR_Detec%C3%A7%C3%A3o_de_texto_com_EAST.ipynb\" target=\"_parent\"><img src=\"https://colab.research.google.com/assets/colab-badge.svg\" alt=\"Open In Colab\"/></a>"
      ]
    },
    {
      "cell_type": "markdown",
      "metadata": {
        "id": "cvdGr7Qp0IzA"
      },
      "source": [
        "# Detecção de texto em imagens com EAST detector\n",
        "\n",
        "- Paper da técnica: https://arxiv.org/pdf/1704.03155v2.pdf\n",
        "\n",
        "\n",
        "Este código implementa um processo de detecção de texto em imagens utilizando o Tesseract OCR, com foco na extração de texto de regiões específicas da imagem. Primeiramente, ele detecta as caixas delimitadoras ao redor das regiões de texto e, em seguida, ajusta essas caixas para a escala original da imagem. Após isso, ele extraí a região de interesse (ROI) de cada caixa e aplica uma margem adicional para capturar mais contexto ao redor do texto detectado. A imagem com as caixas e margens é exibida, e o Tesseract OCR é utilizado para realizar o reconhecimento de texto em cada ROI extraída. O texto extraído é impresso no console, permitindo validar o processo de OCR. A visualização das caixas e o texto extraído são essenciais para revisar e ajustar as detecções realizadas."
      ]
    },
    {
      "cell_type": "markdown",
      "metadata": {
        "id": "dt6_dwLK0F9B"
      },
      "source": [
        "# Importando as bibliotecas"
      ]
    },
    {
      "cell_type": "code",
      "metadata": {
        "id": "n9-AdgBRk21O"
      },
      "source": [
        "# Importa a biblioteca OpenCV, utilizada para processamento de imagens e visão computacional.\n",
        "import cv2\n",
        "\n",
        "# Importa a biblioteca NumPy, que facilita manipulações de arrays e cálculos matemáticos.\n",
        "import numpy as np\n",
        "\n",
        "# Importa a função cv2_imshow do módulo google.colab.patches.\n",
        "# Essa função é usada para exibir imagens no Google Colab, já que cv2.imshow não funciona em navegadores.\n",
        "from google.colab.patches import cv2_imshow\n",
        "\n",
        "# Importa a função non_max_suppression do módulo imutils.object_detection.\n",
        "# Essa função é usada para reduzir sobreposição de caixas delimitadoras em detecção de objetos,\n",
        "# mantendo apenas as mais relevantes.\n",
        "from imutils.object_detection import non_max_suppression\n"
      ],
      "execution_count": null,
      "outputs": []
    },
    {
      "cell_type": "markdown",
      "metadata": {
        "id": "wdnoSHksyxc7"
      },
      "source": [
        "# Conectando ao Google Drive"
      ]
    },
    {
      "cell_type": "code",
      "metadata": {
        "colab": {
          "base_uri": "https://localhost:8080/"
        },
        "id": "BXx9j_92lHV1",
        "outputId": "47bd0c11-b107-47e5-fb4c-f5ce09974e1a"
      },
      "source": [
        "from google.colab import drive\n",
        "drive.mount('/content/drive')"
      ],
      "execution_count": null,
      "outputs": [
        {
          "output_type": "stream",
          "text": [
            "Mounted at /content/drive\n"
          ],
          "name": "stdout"
        }
      ]
    },
    {
      "cell_type": "code",
      "metadata": {
        "id": "_Cga1b0umEdp"
      },
      "source": [
        "# Copia o arquivo `frozen_east_text_detection.pb` do Google Drive para o diretório atual.\n",
        "# O arquivo está localizado no caminho especificado dentro do Google Drive.\n",
        "!cp /content/drive/MyDrive/Cursos\\ -\\ recursos/OCR\\ com\\ Python/Modelos/frozen_east_text_detection.pb ./\n"
      ],
      "execution_count": null,
      "outputs": []
    },
    {
      "cell_type": "code",
      "metadata": {
        "id": "BTNRLtU4me9U"
      },
      "source": [
        "# Copia recursivamente o diretório \"Imagens\" localizado no Google Drive\n",
        "# para o diretório \"images/\" no ambiente atual.\n",
        "# O caminho de origem inclui caracteres especiais, como espaços, que são escapados com `\\`.\n",
        "!cp -R /content/drive/MyDrive/Cursos\\ -\\ recursos/OCR\\ com\\ Python/Imagens images/\n"
      ],
      "execution_count": null,
      "outputs": []
    },
    {
      "cell_type": "markdown",
      "metadata": {
        "id": "UsYxv6KFhgqP"
      },
      "source": [
        "# Processando a imagem"
      ]
    },
    {
      "cell_type": "code",
      "metadata": {
        "id": "ivT7Xjh6muL3"
      },
      "source": [
        "# Define o caminho para o modelo de detecção de texto treinado.\n",
        "# O modelo \"frozen_east_text_detection.pb\" é um modelo baseado na arquitetura EAST (Efficient and Accurate Scene Text Detection).\n",
        "detector = 'frozen_east_text_detection.pb'\n",
        "\n",
        "# Define as dimensões de entrada para a rede neural.\n",
        "# largura: 320 pixels\n",
        "# altura: 320 pixels\n",
        "# Essas dimensões são geralmente usadas para redimensionar as imagens antes de serem processadas pelo modelo.\n",
        "largura, altura = 320, 320\n"
      ],
      "execution_count": null,
      "outputs": []
    },
    {
      "cell_type": "code",
      "metadata": {
        "id": "GSHAXaEem9iz"
      },
      "source": [
        "# Define o caminho para a imagem que será utilizada para a detecção de texto.\n",
        "# Neste caso, a imagem é \"diploma.jpg\", localizada dentro do diretório \"images/\".\n",
        "imagem = 'images/diploma.jpg'\n",
        "\n",
        "# Define o valor mínimo de confiança para considerar uma detecção válida.\n",
        "# Apenas regiões com uma confiança maior ou igual a 0.9 serão mantidas.\n",
        "# O valor pode ser ajustado no intervalo de 0.0 a 1.0, onde valores mais altos tornam o modelo mais restritivo.\n",
        "min_confianca = 0.9  # @param {type: 'number', min:0.0, max:1.0}\n"
      ],
      "execution_count": null,
      "outputs": []
    },
    {
      "cell_type": "code",
      "metadata": {
        "colab": {
          "base_uri": "https://localhost:8080/",
          "height": 158
        },
        "id": "NZuw1M-_nRNN",
        "outputId": "d75e0a0f-e487-4c9b-e289-4fddb597b3b4"
      },
      "source": [
        "# Lê a imagem do caminho especificado usando a função cv2.imread.\n",
        "# A imagem é carregada como um array NumPy, onde cada pixel é representado por valores de cor (BGR).\n",
        "img = cv2.imread(imagem)\n",
        "\n",
        "# Exibe a imagem carregada no ambiente do Google Colab.\n",
        "# A função cv2_imshow é usada em vez de cv2.imshow porque cv2.imshow não funciona em navegadores.\n",
        "cv2_imshow(img)\n"
      ],
      "execution_count": null,
      "outputs": [
        {
          "output_type": "error",
          "ename": "NameError",
          "evalue": "name 'cv2' is not defined",
          "traceback": [
            "\u001b[0;31m---------------------------------------------------------------------------\u001b[0m",
            "\u001b[0;31mNameError\u001b[0m                                 Traceback (most recent call last)",
            "\u001b[0;32m<ipython-input-2-6d48152f3e21>\u001b[0m in \u001b[0;36m<cell line: 1>\u001b[0;34m()\u001b[0m\n\u001b[0;32m----> 1\u001b[0;31m \u001b[0mimg\u001b[0m \u001b[0;34m=\u001b[0m \u001b[0mcv2\u001b[0m\u001b[0;34m.\u001b[0m\u001b[0mimread\u001b[0m\u001b[0;34m(\u001b[0m\u001b[0mimagem\u001b[0m\u001b[0;34m)\u001b[0m\u001b[0;34m\u001b[0m\u001b[0;34m\u001b[0m\u001b[0m\n\u001b[0m\u001b[1;32m      2\u001b[0m \u001b[0mcv2_imshow\u001b[0m\u001b[0;34m(\u001b[0m\u001b[0mimg\u001b[0m\u001b[0;34m)\u001b[0m\u001b[0;34m\u001b[0m\u001b[0;34m\u001b[0m\u001b[0m\n",
            "\u001b[0;31mNameError\u001b[0m: name 'cv2' is not defined"
          ]
        }
      ]
    },
    {
      "cell_type": "code",
      "metadata": {
        "id": "2GUEvK9Jnn4x"
      },
      "source": [
        "# Cria uma cópia da imagem original.\n",
        "# Isso é feito para preservar a imagem original enquanto se aplica processamento na cópia.\n",
        "original = img.copy()\n"
      ],
      "execution_count": null,
      "outputs": []
    },
    {
      "cell_type": "code",
      "metadata": {
        "colab": {
          "base_uri": "https://localhost:8080/"
        },
        "id": "Hr7ibh0RoFTM",
        "outputId": "4d9dc5dd-f3d9-4ea9-c898-eed547a587cc"
      },
      "source": [
        "# Obtém as dimensões da imagem carregada.\n",
        "# A função `.shape` retorna uma tupla com as dimensões (altura, largura, número de canais de cor).\n",
        "img.shape"
      ],
      "execution_count": null,
      "outputs": [
        {
          "output_type": "execute_result",
          "data": {
            "text/plain": [
              "(480, 750, 3)"
            ]
          },
          "metadata": {
            "tags": []
          },
          "execution_count": 12
        }
      ]
    },
    {
      "cell_type": "code",
      "metadata": {
        "colab": {
          "base_uri": "https://localhost:8080/"
        },
        "id": "nJnE6A-6oQo-",
        "outputId": "417dc7ca-197a-4dd9-a784-64506096a110"
      },
      "source": [
        "# Obtém a altura da imagem a partir da primeira dimensão do array (número de linhas).\n",
        "H = img.shape[0]\n",
        "\n",
        "# Obtém a largura da imagem a partir da segunda dimensão do array (número de colunas).\n",
        "W = img.shape[1]\n",
        "\n",
        "# Imprime os valores de altura (H) e largura (W) da imagem.\n",
        "print(H, W)"
      ],
      "execution_count": null,
      "outputs": [
        {
          "output_type": "stream",
          "text": [
            "480 750\n"
          ],
          "name": "stdout"
        }
      ]
    },
    {
      "cell_type": "code",
      "metadata": {
        "colab": {
          "base_uri": "https://localhost:8080/"
        },
        "id": "yOKPCUPVpoNL",
        "outputId": "c216cc4a-2770-4f1e-9a46-857ebab775a2"
      },
      "source": [
        "# Calcula a proporção de redimensionamento para a largura.\n",
        "# Isso é feito dividindo a largura original da imagem (W) pela largura-alvo especificada (variável `largura`).\n",
        "proporcao_W = W / float(largura)\n",
        "\n",
        "# Calcula a proporção de redimensionamento para a altura.\n",
        "# Isso é feito dividindo a altura original da imagem (H) pela altura-alvo especificada (variável `altura`).\n",
        "proporcao_H = H / float(altura)\n",
        "\n",
        "# Imprime as proporções de redimensionamento para a largura e a altura.\n",
        "print(proporcao_W, proporcao_H)\n"
      ],
      "execution_count": null,
      "outputs": [
        {
          "output_type": "stream",
          "text": [
            "2.34375 1.5\n"
          ],
          "name": "stdout"
        }
      ]
    },
    {
      "cell_type": "code",
      "metadata": {
        "colab": {
          "base_uri": "https://localhost:8080/"
        },
        "id": "ehFf-lE8qKQH",
        "outputId": "459b05e7-6bc7-4519-f216-907e529c0453"
      },
      "source": [
        "# Redimensiona a imagem para as dimensões especificadas (largura, altura).\n",
        "# A função cv2.resize ajusta a imagem original para corresponder às dimensões desejadas.\n",
        "# Aqui, a imagem será redimensionada para 320x320 pixels, conforme definido anteriormente.\n",
        "img = cv2.resize(img, (largura, altura))\n",
        "\n",
        "# Após o redimensionamento, atualiza o valor da altura da imagem redimensionada.\n",
        "# A nova altura será igual ao valor especificado na variável `altura`.\n",
        "H = img.shape[0]\n",
        "\n",
        "# Após o redimensionamento, atualiza o valor da largura da imagem redimensionada.\n",
        "# A nova largura será igual ao valor especificado na variável `largura`.\n",
        "W = img.shape[1]\n",
        "\n",
        "# Imprime as novas dimensões da imagem (altura e largura) para confirmar o redimensionamento.\n",
        "print(H, W)"
      ],
      "execution_count": null,
      "outputs": [
        {
          "output_type": "stream",
          "text": [
            "320 320\n"
          ],
          "name": "stdout"
        }
      ]
    },
    {
      "cell_type": "code",
      "metadata": {
        "colab": {
          "base_uri": "https://localhost:8080/",
          "height": 141
        },
        "id": "Yx_TNXkbqYo-",
        "outputId": "3af52805-317f-4740-9be2-e169d8c5440e"
      },
      "source": [
        "# Exibe a imagem redimensionada no ambiente do Google Colab.\n",
        "# Após o redimensionamento, a função `cv2_imshow` mostra a imagem para que possamos verificar o resultado.\n",
        "cv2_imshow(img)"
      ],
      "execution_count": null,
      "outputs": [
        {
          "output_type": "error",
          "ename": "NameError",
          "evalue": "name 'cv2_imshow' is not defined",
          "traceback": [
            "\u001b[0;31m---------------------------------------------------------------------------\u001b[0m",
            "\u001b[0;31mNameError\u001b[0m                                 Traceback (most recent call last)",
            "\u001b[0;32m<ipython-input-1-d0027ef4e25a>\u001b[0m in \u001b[0;36m<cell line: 1>\u001b[0;34m()\u001b[0m\n\u001b[0;32m----> 1\u001b[0;31m \u001b[0mcv2_imshow\u001b[0m\u001b[0;34m(\u001b[0m\u001b[0mimg\u001b[0m\u001b[0;34m)\u001b[0m\u001b[0;34m\u001b[0m\u001b[0;34m\u001b[0m\u001b[0m\n\u001b[0m",
            "\u001b[0;31mNameError\u001b[0m: name 'cv2_imshow' is not defined"
          ]
        }
      ]
    },
    {
      "cell_type": "markdown",
      "metadata": {
        "id": "_vLP34v0hlkP"
      },
      "source": [
        "# Carregando a rede neural"
      ]
    },
    {
      "cell_type": "code",
      "metadata": {
        "id": "aXDdbe75tchB"
      },
      "source": [
        "# Define os nomes das camadas de saída do modelo EAST para detecção de texto.\n",
        "# Essas camadas serão utilizadas para obter os resultados do modelo após o processamento da imagem.\n",
        "\n",
        "# 'feature_fusion/Conv_7/Sigmoid':\n",
        "#   Essa camada é responsável por fornecer o mapa de probabilidades de texto.\n",
        "#   Indica a probabilidade de cada pixel pertencer a uma região de texto.\n",
        "\n",
        "# 'feature_fusion/concat_3':\n",
        "#   Essa camada fornece as coordenadas geométricas das caixas delimitadoras (bounding boxes)\n",
        "#   para cada região identificada como texto.\n",
        "nomes_camadas = ['feature_fusion/Conv_7/Sigmoid', 'feature_fusion/concat_3']"
      ],
      "execution_count": null,
      "outputs": []
    },
    {
      "cell_type": "code",
      "metadata": {
        "id": "besXjw0AugPs"
      },
      "source": [
        "# Carrega o modelo de rede neural pré-treinado para detecção de texto.\n",
        "# O modelo especificado pelo caminho armazenado na variável 'detector' (frozen_east_text_detection.pb)\n",
        "# é carregado usando a função `cv2.dnn.readNet`, que faz parte do módulo de Redes Neurais Profundas do OpenCV.\n",
        "rede_neural = cv2.dnn.readNet(detector)"
      ],
      "execution_count": null,
      "outputs": []
    },
    {
      "cell_type": "code",
      "metadata": {
        "colab": {
          "base_uri": "https://localhost:8080/"
        },
        "id": "3FKsglIGuvVD",
        "outputId": "c1b37905-a2dd-4a75-827d-fa2985557a48"
      },
      "source": [
        "# Exibe as dimensões da imagem atualmente armazenada na variável `img`.\n",
        "# A função `.shape` retorna uma tupla no formato (altura, largura, canais),\n",
        "# que descreve a estrutura do array que representa a imagem.\n",
        "img.shape\n"
      ],
      "execution_count": null,
      "outputs": [
        {
          "output_type": "execute_result",
          "data": {
            "text/plain": [
              "(320, 320, 3)"
            ]
          },
          "metadata": {
            "tags": []
          },
          "execution_count": 20
        }
      ]
    },
    {
      "cell_type": "code",
      "metadata": {
        "id": "g91tpJ9xu0yS"
      },
      "source": [
        "# Prepara a imagem para ser usada como entrada na rede neural.\n",
        "# A função `cv2.dnn.blobFromImage` converte a imagem em um \"blob\", que é o formato necessário para as redes neurais do OpenCV.\n",
        "blob = cv2.dnn.blobFromImage(\n",
        "    img,           # Imagem de entrada que será processada.\n",
        "    1.0,           # Fator de escala para normalizar os valores dos pixels (neste caso, sem escala adicional).\n",
        "    (W, H),        # Dimensões da imagem de entrada que a rede espera (largura e altura da imagem redimensionada).\n",
        "    swapRB=True,   # Indica que os canais devem ser convertidos de BGR para RGB.\n",
        "    crop=False     # Especifica que a imagem não deve ser cortada durante o redimensionamento.\n",
        ")\n"
      ],
      "execution_count": null,
      "outputs": []
    },
    {
      "cell_type": "code",
      "metadata": {
        "colab": {
          "base_uri": "https://localhost:8080/"
        },
        "id": "tef5SKN8vXSn",
        "outputId": "dd4e4ab1-d998-437f-c8f0-aa86cf2e9ca9"
      },
      "source": [
        "blob.shape # batch_size"
      ],
      "execution_count": null,
      "outputs": [
        {
          "output_type": "execute_result",
          "data": {
            "text/plain": [
              "(1, 3, 320, 320)"
            ]
          },
          "metadata": {
            "tags": []
          },
          "execution_count": 22
        }
      ]
    },
    {
      "cell_type": "code",
      "metadata": {
        "id": "DPu9iRI8vl_v"
      },
      "source": [
        "# Configura o blob gerado como entrada para a rede neural.\n",
        "# O método `setInput` atribui o blob (que contém a imagem processada) como entrada para o modelo carregado.\n",
        "rede_neural.setInput(blob)\n",
        "\n",
        "# Realiza a inferência na imagem para obter as saídas das camadas especificadas.\n",
        "# A função `forward` executa a passagem direta do blob pela rede neural, retornando os resultados das camadas definidas.\n",
        "# Aqui, os resultados das camadas 'feature_fusion/Conv_7/Sigmoid' (scores) e 'feature_fusion/concat_3' (geometry) são extraídos.\n",
        "scores, geometry = rede_neural.forward(nomes_camadas)\n"
      ],
      "execution_count": null,
      "outputs": []
    },
    {
      "cell_type": "code",
      "metadata": {
        "colab": {
          "base_uri": "https://localhost:8080/"
        },
        "id": "q6VyXHXIwI7_",
        "outputId": "15daf7d1-2189-44d3-97ef-88c01dad3478"
      },
      "source": [
        "# Exibe o conteúdo da variável `scores`, que contém o mapa de confiança.\n",
        "# `scores` é uma saída da rede neural e representa a probabilidade de cada região na imagem ser texto.\n",
        "# Geralmente, é um tensor de 4 dimensões no formato (N, C, H, W), onde:\n",
        "# - N: Número de imagens no blob (1 neste caso).\n",
        "# - C: Número de canais (1, para probabilidade de texto).\n",
        "# - H e W: Altura e largura reduzidas da imagem processada pela rede.\n",
        "scores\n"
      ],
      "execution_count": null,
      "outputs": [
        {
          "output_type": "execute_result",
          "data": {
            "text/plain": [
              "array([[[[1.47752374e-07, 5.33552679e-07, 6.18313038e-07, ...,\n",
              "          2.38874441e-06, 2.14221203e-07, 1.97413760e-06],\n",
              "         [2.21553137e-07, 8.22969994e-08, 1.52692380e-07, ...,\n",
              "          3.80215579e-06, 2.49685854e-07, 2.09746190e-06],\n",
              "         [2.41076435e-07, 2.56505132e-07, 6.74969783e-07, ...,\n",
              "          4.48429728e-06, 6.08908124e-08, 2.51588767e-06],\n",
              "         ...,\n",
              "         [5.19031346e-07, 1.34708145e-07, 3.80787064e-08, ...,\n",
              "          1.79544452e-06, 7.75353328e-07, 5.47008494e-06],\n",
              "         [2.85663532e-07, 8.55804032e-08, 1.12898597e-07, ...,\n",
              "          1.13547708e-06, 9.01572434e-07, 5.07820823e-06],\n",
              "         [7.21993842e-08, 8.43333137e-09, 5.46042234e-09, ...,\n",
              "          1.91421819e-07, 3.16591752e-07, 1.02402886e-07]]]],\n",
              "      dtype=float32)"
            ]
          },
          "metadata": {
            "tags": []
          },
          "execution_count": 24
        }
      ]
    },
    {
      "cell_type": "code",
      "metadata": {
        "colab": {
          "base_uri": "https://localhost:8080/"
        },
        "id": "OZ-FKTIcwWVy",
        "outputId": "44c7c1aa-2f80-4359-9598-a5bcbc2d1692"
      },
      "source": [
        "# Exibe o conteúdo da variável `geometry`, que contém os dados geométricos.\n",
        "# `geometry` é uma saída da rede neural que fornece informações sobre a geometria das regiões de texto detectadas.\n",
        "# Geralmente, é um tensor de 4 dimensões no formato (N, 5, H, W), onde:\n",
        "# - N: Número de imagens no blob (1 neste caso).\n",
        "# - 5: Representa os 5 parâmetros geométricos para cada região detectada:\n",
        "#       (distância do topo, direita, inferior, esquerda e o ângulo de rotação).\n",
        "# - H e W: Altura e largura reduzidas da imagem processada pela rede.\n",
        "geometry\n"
      ],
      "execution_count": null,
      "outputs": [
        {
          "output_type": "execute_result",
          "data": {
            "text/plain": [
              "array([[[[ 1.54848892e+02,  1.01938652e+02,  1.08211067e+02, ...,\n",
              "           1.33965744e+02,  1.27577377e+02,  1.46967911e+02],\n",
              "         [ 1.19407845e+02,  6.46942062e+01,  7.18581467e+01, ...,\n",
              "           9.02676239e+01,  8.52865753e+01,  1.03320236e+02],\n",
              "         [ 1.22548698e+02,  6.90612106e+01,  7.86800232e+01, ...,\n",
              "           1.06370026e+02,  1.01670258e+02,  1.14973625e+02],\n",
              "         ...,\n",
              "         [ 1.16457443e+02,  4.99968452e+01,  3.75178909e+01, ...,\n",
              "           8.21259766e+01,  8.12639771e+01,  1.21695587e+02],\n",
              "         [ 1.27623566e+02,  5.88201637e+01,  4.84035950e+01, ...,\n",
              "           8.31772385e+01,  8.09339981e+01,  1.11183853e+02],\n",
              "         [ 1.26661636e+02,  7.53631363e+01,  6.93250504e+01, ...,\n",
              "           1.27025375e+02,  1.18697914e+02,  1.47223694e+02]],\n",
              "\n",
              "        [[ 1.09559792e+02,  9.52129364e+01,  9.08699570e+01, ...,\n",
              "           1.00495560e+02,  9.43882065e+01,  1.12618568e+02],\n",
              "         [ 8.27181702e+01,  5.77867126e+01,  5.62353210e+01, ...,\n",
              "           6.53349457e+01,  5.78645287e+01,  8.25854416e+01],\n",
              "         [ 8.28831253e+01,  5.74390793e+01,  5.57291069e+01, ...,\n",
              "           6.71492996e+01,  5.90495186e+01,  8.50818253e+01],\n",
              "         ...,\n",
              "         [ 6.44663849e+01,  3.39888077e+01,  2.99582043e+01, ...,\n",
              "           6.00454750e+01,  5.66133385e+01,  9.02197723e+01],\n",
              "         [ 7.39354782e+01,  4.26853561e+01,  3.48347359e+01, ...,\n",
              "           6.33570213e+01,  5.91880264e+01,  9.02698135e+01],\n",
              "         [ 8.64314346e+01,  6.14679794e+01,  5.44256592e+01, ...,\n",
              "           9.61757355e+01,  9.25789642e+01,  1.13490692e+02]],\n",
              "\n",
              "        [[ 8.59015350e+01,  8.48275833e+01,  8.40552444e+01, ...,\n",
              "           9.90848312e+01,  9.13577271e+01,  1.01810043e+02],\n",
              "         [ 8.01797485e+01,  5.16589661e+01,  5.67269363e+01, ...,\n",
              "           7.78348694e+01,  6.83267365e+01,  9.25380173e+01],\n",
              "         [ 7.90953293e+01,  4.98526726e+01,  5.72138824e+01, ...,\n",
              "           8.29658279e+01,  7.44206848e+01,  9.96823883e+01],\n",
              "         ...,\n",
              "         [ 5.71242828e+01,  2.63170795e+01,  2.11051712e+01, ...,\n",
              "           6.00127068e+01,  6.19300041e+01,  9.90848541e+01],\n",
              "         [ 7.19075012e+01,  4.03640556e+01,  3.61403732e+01, ...,\n",
              "           5.91128197e+01,  5.93439140e+01,  8.84010239e+01],\n",
              "         [ 9.66943283e+01,  7.96643524e+01,  6.84386139e+01, ...,\n",
              "           1.13774956e+02,  1.10461662e+02,  1.36449020e+02]],\n",
              "\n",
              "        [[ 1.55224823e+02,  1.42254593e+02,  1.25691154e+02, ...,\n",
              "           1.41807526e+02,  1.33358429e+02,  1.63978683e+02],\n",
              "         [ 1.16146393e+02,  7.99790878e+01,  7.47873001e+01, ...,\n",
              "           9.28985825e+01,  8.47085648e+01,  1.33037216e+02],\n",
              "         [ 1.13278313e+02,  7.99751282e+01,  7.68410645e+01, ...,\n",
              "           9.39271393e+01,  8.60716629e+01,  1.37719498e+02],\n",
              "         ...,\n",
              "         [ 1.14271423e+02,  6.35554161e+01,  4.32907715e+01, ...,\n",
              "           7.45655441e+01,  7.36414566e+01,  1.32746613e+02],\n",
              "         [ 1.19805542e+02,  7.75902786e+01,  5.18556366e+01, ...,\n",
              "           7.32145462e+01,  7.12842941e+01,  1.20034401e+02],\n",
              "         [ 1.56270767e+02,  1.08380386e+02,  8.11181488e+01, ...,\n",
              "           9.34993362e+01,  9.73849030e+01,  1.54867676e+02]],\n",
              "\n",
              "        [[ 1.57442093e-02,  2.91850567e-02,  3.18701863e-02, ...,\n",
              "          -5.02526760e-04,  1.38773322e-02,  5.68413734e-02],\n",
              "         [-3.83337140e-02,  6.48224354e-03,  4.69255447e-03, ...,\n",
              "          -6.25430942e-02, -3.13661695e-02, -8.02922249e-03],\n",
              "         [-3.22697759e-02,  1.59595013e-02,  1.20918751e-02, ...,\n",
              "          -2.41339803e-02, -6.07997179e-03,  4.52041626e-04],\n",
              "         ...,\n",
              "         [-4.54726219e-02,  2.47731805e-02,  3.51732969e-02, ...,\n",
              "           2.35739350e-02,  3.62185836e-02,  1.70465112e-02],\n",
              "         [-5.39325476e-02, -2.12965608e-02, -3.98123264e-02, ...,\n",
              "           1.02320910e-02,  1.90261602e-02,  3.24279070e-02],\n",
              "         [-4.49286103e-02, -1.12830281e-01, -1.14262819e-01, ...,\n",
              "          -5.31206727e-02, -5.57299852e-02, -2.03258395e-02]]]],\n",
              "      dtype=float32)"
            ]
          },
          "metadata": {
            "tags": []
          },
          "execution_count": 26
        }
      ]
    },
    {
      "cell_type": "code",
      "metadata": {
        "colab": {
          "base_uri": "https://localhost:8080/"
        },
        "id": "biXjjN8ezhHS",
        "outputId": "1578d33f-1ca5-47fd-ee1b-244844345c7b"
      },
      "source": [
        "# Exibe o valor do primeiro parâmetro geométrico de uma célula específica na saída `geometry`.\n",
        "# Aqui:\n",
        "# - `[0, 0, 0]`: Refere-se à imagem 0 (única no blob), ao primeiro parâmetro geométrico\n",
        "#   (distância da borda superior), e à célula no índice 0 na dimensão horizontal e vertical da saída.\n",
        "geometry[0, 0, 0]\n"
      ],
      "execution_count": null,
      "outputs": [
        {
          "output_type": "execute_result",
          "data": {
            "text/plain": [
              "array([154.84889 , 101.93865 , 108.21107 , 110.35274 , 111.579956,\n",
              "       113.072136, 114.39854 , 116.1475  , 115.30822 , 115.90365 ,\n",
              "       117.415665, 118.78156 , 116.545105, 116.34599 , 121.44332 ,\n",
              "       129.47726 , 137.6081  , 143.0237  , 146.83202 , 149.02911 ,\n",
              "       149.08717 , 148.28294 , 147.13005 , 145.16948 , 143.0738  ,\n",
              "       140.95238 , 138.77005 , 137.29416 , 134.19766 , 131.39839 ,\n",
              "       129.34814 , 127.54952 , 126.742744, 125.23263 , 120.42206 ,\n",
              "       117.427246, 116.22169 , 116.099655, 116.90419 , 118.21091 ,\n",
              "       119.18678 , 123.20284 , 125.41776 , 126.38552 , 126.154854,\n",
              "       126.193016, 126.85884 , 126.92803 , 128.2181  , 128.52025 ,\n",
              "       128.97598 , 129.4047  , 130.30916 , 130.73273 , 130.80652 ,\n",
              "       130.30147 , 129.32219 , 127.84744 , 126.37807 , 125.062874,\n",
              "       124.11794 , 123.375946, 122.265175, 120.8582  , 120.00341 ,\n",
              "       119.063995, 117.834236, 116.99429 , 115.744   , 117.560776,\n",
              "       119.882645, 121.395935, 125.46858 , 121.87925 , 120.99443 ,\n",
              "       120.40494 , 127.09296 , 133.96574 , 127.57738 , 146.96791 ],\n",
              "      dtype=float32)"
            ]
          },
          "metadata": {
            "tags": []
          },
          "execution_count": 37
        }
      ]
    },
    {
      "cell_type": "code",
      "metadata": {
        "colab": {
          "base_uri": "https://localhost:8080/"
        },
        "id": "-vWQiNUMwdy1",
        "outputId": "e49be202-7764-46a8-8551-77f93d6d2701"
      },
      "source": [
        "# Exibe as dimensões do tensor `scores`, que contém o mapa de probabilidade de texto.\n",
        "# A função `.shape` retorna a estrutura do array em forma de tupla no formato (N, C, H, W), onde:\n",
        "# - N: Número de imagens no blob (normalmente 1 neste caso).\n",
        "# - C: Número de canais (geralmente 1, indicando que é um mapa de probabilidade).\n",
        "# - H: Altura reduzida da saída da rede em pixels.\n",
        "# - W: Largura reduzida da saída da rede em pixels.\n",
        "scores.shape\n"
      ],
      "execution_count": null,
      "outputs": [
        {
          "output_type": "execute_result",
          "data": {
            "text/plain": [
              "(1, 1, 80, 80)"
            ]
          },
          "metadata": {
            "tags": []
          },
          "execution_count": 27
        }
      ]
    },
    {
      "cell_type": "code",
      "metadata": {
        "colab": {
          "base_uri": "https://localhost:8080/"
        },
        "id": "eig3bmLbwjxc",
        "outputId": "e0a85c97-89be-4883-def2-bd4dfcf10394"
      },
      "source": [
        "# Obtém as dimensões da grade reduzida de saída para a altura e largura do tensor `scores`.\n",
        "# O operador `[2:4]` seleciona as dimensões correspondentes à altura (H) e largura (W) reduzidas.\n",
        "scores.shape[2:4]"
      ],
      "execution_count": null,
      "outputs": [
        {
          "output_type": "execute_result",
          "data": {
            "text/plain": [
              "(80, 80)"
            ]
          },
          "metadata": {
            "tags": []
          },
          "execution_count": 30
        }
      ]
    },
    {
      "cell_type": "code",
      "metadata": {
        "id": "SibTe8ozwvZc"
      },
      "source": [
        "# Obtém as dimensões da grade reduzida de saída da rede neural, correspondente ao mapa de confiança.\n",
        "# `scores.shape[2:4]` retorna uma tupla com (altura, largura) da grade reduzida.\n",
        "# Essas dimensões representam o número de células na grade da saída da rede.\n",
        "linhas, colunas = scores.shape[2:4]\n"
      ],
      "execution_count": null,
      "outputs": []
    },
    {
      "cell_type": "code",
      "metadata": {
        "colab": {
          "base_uri": "https://localhost:8080/"
        },
        "id": "Jx9f8waEwzTl",
        "outputId": "6ac46e37-9bc6-47d7-88cf-f777ed76e2a2"
      },
      "source": [
        "# Imprime as dimensões da grade reduzida de saída da rede neural.\n",
        "# `linhas` representa o número de células na direção vertical.\n",
        "# `colunas` representa o número de células na direção horizontal.\n",
        "print(linhas, colunas)\n"
      ],
      "execution_count": null,
      "outputs": [
        {
          "output_type": "stream",
          "text": [
            "80 80\n"
          ],
          "name": "stdout"
        }
      ]
    },
    {
      "cell_type": "code",
      "metadata": {
        "id": "U753khvew4Uz"
      },
      "source": [
        "# Inicializa uma lista vazia para armazenar as caixas delimitadoras (bounding boxes) das regiões de texto detectadas.\n",
        "# Cada elemento dessa lista será uma caixa delimitadora representada por coordenadas (x, y, largura, altura).\n",
        "caixas = []\n",
        "\n",
        "# Inicializa uma lista vazia para armazenar os valores de confiança (scores) associados a cada caixa detectada.\n",
        "# Esses valores indicam a probabilidade de a região corresponder a texto.\n",
        "confiancas = []\n"
      ],
      "execution_count": null,
      "outputs": []
    },
    {
      "cell_type": "markdown",
      "metadata": {
        "id": "2qKL1ergUcq2"
      },
      "source": [
        "# Decodificando os valores\n",
        "\n",
        "- Explicação sobre os [valores de geometria](https://stackoverflow.com/questions/55583306/decoding-geometry-output-of-east-text-detection)"
      ]
    },
    {
      "cell_type": "code",
      "metadata": {
        "id": "9MetBLvvzNe1"
      },
      "source": [
        "# Define uma função para extrair os dados geométricos de uma linha específica do tensor `geometry`.\n",
        "# Essa função é usada para obter as informações necessárias para reconstruir as caixas delimitadoras.\n",
        "def dados_geometricos(geometry, y):\n",
        "    # Extrai os deslocamentos das bordas superior, direita, inferior e esquerda para a linha `y`.\n",
        "    # Esses dados são armazenados nas diferentes camadas do tensor `geometry`:\n",
        "    # - geometry[0, 0, y]: Deslocamento da borda superior.\n",
        "    # - geometry[0, 1, y]: Deslocamento da borda direita.\n",
        "    # - geometry[0, 2, y]: Deslocamento da borda inferior.\n",
        "    # - geometry[0, 3, y]: Deslocamento da borda esquerda.\n",
        "    xData0 = geometry[0, 0, y]\n",
        "    xData1 = geometry[0, 1, y]\n",
        "    xData2 = geometry[0, 2, y]\n",
        "    xData3 = geometry[0, 3, y]\n",
        "\n",
        "    # Extrai o ângulo de rotação associado à célula da linha `y`.\n",
        "    # O ângulo é armazenado na camada geometry[0, 4, y].\n",
        "    data_angulos = geometry[0, 4, y]\n",
        "\n",
        "    # Retorna os dados geométricos para a linha `y`:\n",
        "    # - `data_angulos`: Ângulo de rotação.\n",
        "    # - `xData0`, `xData1`, `xData2`, `xData3`: Deslocamentos das bordas.\n",
        "    return data_angulos, xData0, xData1, xData2, xData3\n"
      ],
      "execution_count": null,
      "outputs": []
    },
    {
      "cell_type": "code",
      "metadata": {
        "id": "ZtysBgWqz7jk"
      },
      "source": [
        "# Define uma função para calcular as coordenadas das caixas delimitadoras (bounding boxes) a partir dos dados geométricos.\n",
        "def calculos_geometria(data_angulos, xData0, xData1, xData2, xData3):\n",
        "    # Calcula os deslocamentos na escala original da imagem para o ponto de referência (célula da grade).\n",
        "    # Multiplica os índices `x` e `y` da célula por 4, já que o mapa de saída é reduzido em relação à imagem original.\n",
        "    (offsetX, offsetY) = (x * 4.0, y * 4.0)\n",
        "\n",
        "    # Obtém o ângulo de rotação associado à célula.\n",
        "    angulo = data_angulos[x]\n",
        "\n",
        "    # Calcula os valores de cosseno e seno do ângulo, necessários para ajustar a rotação da caixa.\n",
        "    cos = np.cos(angulo)\n",
        "    sin = np.sin(angulo)\n",
        "\n",
        "    # Calcula a altura (`h`) e a largura (`w`) da caixa delimitadora usando os deslocamentos geométricos.\n",
        "    h = xData0[x] + xData2[x]  # Soma dos deslocamentos superior e inferior.\n",
        "    w = xData1[x] + xData3[x]  # Soma dos deslocamentos direito e esquerdo.\n",
        "\n",
        "    # Calcula as coordenadas do canto inferior direito da caixa delimitadora (fimX, fimY).\n",
        "    fimX = int(offsetX + (cos * xData1[x]) + (sin * xData2[x]))\n",
        "    fimY = int(offsetY - (sin * xData1[x]) + (cos * xData2[x]))\n",
        "\n",
        "    # Calcula as coordenadas do canto superior esquerdo da caixa delimitadora (inicioX, inicioY).\n",
        "    inicioX = int(fimX - w)\n",
        "    inicioY = int(fimY - h)\n",
        "\n",
        "    # Retorna as coordenadas completas da caixa delimitadora:\n",
        "    # - (inicioX, inicioY): Canto superior esquerdo.\n",
        "    # - (fimX, fimY): Canto inferior direito.\n",
        "    return inicioX, inicioY, fimX, fimY\n"
      ],
      "execution_count": null,
      "outputs": []
    },
    {
      "cell_type": "code",
      "metadata": {
        "colab": {
          "base_uri": "https://localhost:8080/"
        },
        "id": "4ZFd6wi548zC",
        "outputId": "3f694138-c186-4b11-8f96-c0ce77a03e35"
      },
      "source": [
        "# `linhas` e `colunas` representam as dimensões da grade reduzida de saída da rede neural.\n",
        "# Essas variáveis já foram obtidas anteriormente a partir de `scores.shape[2:4]`:\n",
        "# - `linhas`: Número de células na direção vertical (altura da grade reduzida).\n",
        "# - `colunas`: Número de células na direção horizontal (largura da grade reduzida).\n",
        "linhas, colunas\n"
      ],
      "execution_count": null,
      "outputs": [
        {
          "output_type": "execute_result",
          "data": {
            "text/plain": [
              "(80, 80)"
            ]
          },
          "metadata": {
            "tags": []
          },
          "execution_count": 41
        }
      ]
    },
    {
      "cell_type": "code",
      "metadata": {
        "colab": {
          "base_uri": "https://localhost:8080/"
        },
        "id": "ZXOGL6Bx5Nru",
        "outputId": "849e3ee1-718b-41ef-d80f-17bee326920f"
      },
      "source": [
        "# Acessa o valor do mapa de probabilidade de texto para a célula específica na linha 0 e coluna 0.\n",
        "# `scores` é o mapa de confiança retornado pela rede neural, representando a probabilidade de cada região conter texto.\n",
        "# Aqui:\n",
        "# - `0`: Refere-se à primeira (e única) imagem no blob de entrada.\n",
        "# - `0`: Refere-se ao único canal (probabilidade de texto).\n",
        "# - `0`: Índice da linha na grade reduzida.\n",
        "# - O valor retornado é a confiança (score) da célula localizada na linha 0 e coluna 0.\n",
        "scores[0, 0, 0]\n"
      ],
      "execution_count": null,
      "outputs": [
        {
          "output_type": "execute_result",
          "data": {
            "text/plain": [
              "array([1.47752374e-07, 5.33552679e-07, 6.18313038e-07, 5.44988495e-07,\n",
              "       6.83899884e-07, 6.35390847e-07, 2.87392936e-07, 1.17966316e-07,\n",
              "       1.41452034e-07, 1.98707312e-07, 1.92506320e-07, 1.78495881e-07,\n",
              "       3.21175833e-07, 1.10004373e-06, 1.85389433e-06, 7.20500395e-07,\n",
              "       2.26942120e-07, 1.93052713e-07, 2.77832100e-07, 4.64349341e-07,\n",
              "       5.43345493e-07, 6.31639011e-07, 6.57134535e-07, 6.78435356e-07,\n",
              "       6.93763980e-07, 5.52085112e-07, 4.24791835e-07, 3.10167337e-07,\n",
              "       4.78031438e-07, 4.52927878e-07, 5.14709882e-07, 5.01000329e-07,\n",
              "       3.54018198e-07, 4.92441586e-07, 2.26114366e-06, 3.20661206e-06,\n",
              "       2.21842652e-06, 1.91733261e-06, 1.95528651e-06, 2.52953100e-06,\n",
              "       3.17436297e-06, 2.37437212e-06, 3.73728085e-07, 5.99255259e-08,\n",
              "       7.66571731e-08, 1.31929426e-07, 1.90021836e-07, 3.26953739e-07,\n",
              "       1.99290312e-07, 1.49426484e-07, 2.11751313e-07, 2.15443109e-07,\n",
              "       2.36163473e-07, 3.09929874e-07, 3.78356759e-07, 4.72775469e-07,\n",
              "       6.34656317e-07, 8.94789252e-07, 1.07284507e-06, 9.49497974e-07,\n",
              "       9.80736672e-07, 1.16853835e-06, 1.74546688e-06, 2.27062333e-06,\n",
              "       2.22998688e-06, 2.26223278e-06, 2.29080138e-06, 2.49390814e-06,\n",
              "       2.03564605e-06, 8.03691137e-07, 4.75547814e-08, 1.27607809e-08,\n",
              "       1.12119265e-08, 1.91326905e-07, 4.86470583e-07, 2.72132155e-07,\n",
              "       5.51691414e-07, 2.38874441e-06, 2.14221203e-07, 1.97413760e-06],\n",
              "      dtype=float32)"
            ]
          },
          "metadata": {
            "tags": []
          },
          "execution_count": 46
        }
      ]
    },
    {
      "cell_type": "code",
      "metadata": {
        "id": "FJtF4iGj46BK"
      },
      "source": [
        "# Itera sobre cada linha na grade reduzida da saída da rede neural.\n",
        "for y in range(0, linhas):\n",
        "    # (Opcional) Imprime o índice da linha atual para depuração.\n",
        "    # print(y)\n",
        "\n",
        "    # Obtém o mapa de probabilidade para a linha atual.\n",
        "    # `data_scores` contém os valores de confiança (scores) para todas as células na linha `y`.\n",
        "    data_scores = scores[0, 0, y]\n",
        "\n",
        "    # Extrai os dados geométricos e ângulo de rotação para a linha atual.\n",
        "    # Esses dados são usados para calcular as caixas delimitadoras.\n",
        "    data_angulos, xData0, xData1, xData2, xData3 = dados_geometricos(geometry, y)\n",
        "\n",
        "    # Itera sobre cada célula na linha atual.\n",
        "    for x in range(0, colunas):\n",
        "        # Verifica se o score da célula é menor que o limite de confiança.\n",
        "        # Se for, pula para a próxima célula (célula descartada por baixa probabilidade).\n",
        "        if data_scores[x] < min_confianca:\n",
        "            continue\n",
        "\n",
        "        # Calcula as coordenadas da caixa delimitadora para a célula atual.\n",
        "        # As coordenadas são calculadas usando os dados geométricos e a posição da célula.\n",
        "        inicioX, inicioY, fimX, fimY = calculos_geometria(data_angulos, xData0, xData1, xData2, xData3)\n",
        "\n",
        "        # Adiciona o valor de confiança da célula à lista `confiancas`.\n",
        "        # Isso será usado para avaliar a relevância das caixas detectadas.\n",
        "        confiancas.append(data_scores[x])\n",
        "\n",
        "        # Adiciona as coordenadas da caixa delimitadora à lista `caixas`.\n",
        "        # Cada caixa é representada como uma tupla: (inicioX, inicioY, fimX, fimY).\n",
        "        caixas.append((inicioX, inicioY, fimX, fimY))"
      ],
      "execution_count": null,
      "outputs": []
    },
    {
      "cell_type": "code",
      "metadata": {
        "colab": {
          "base_uri": "https://localhost:8080/"
        },
        "id": "xsfXql9G6Y9j",
        "outputId": "519a1323-31f1-4c42-917f-830129126788"
      },
      "source": [
        "# A lista `confiancas` armazena os valores de probabilidade (scores) para cada caixa delimitadora detectada.\n",
        "# Esses valores indicam a confiança da rede neural de que a região contém texto.\n",
        "# Apenas as células que têm probabilidade maior ou igual a `min_confianca` são adicionadas à lista.\n",
        "confiancas"
      ],
      "execution_count": null,
      "outputs": [
        {
          "output_type": "execute_result",
          "data": {
            "text/plain": [
              "[0.9995617,\n",
              " 0.99982554,\n",
              " 0.9997718,\n",
              " 0.9994678,\n",
              " 0.9662514,\n",
              " 0.96421045,\n",
              " 0.9993309,\n",
              " 0.99968016,\n",
              " 0.99951243]"
            ]
          },
          "metadata": {
            "tags": []
          },
          "execution_count": 48
        }
      ]
    },
    {
      "cell_type": "code",
      "metadata": {
        "colab": {
          "base_uri": "https://localhost:8080/"
        },
        "id": "JyNp_lRA6dr0",
        "outputId": "46305a38-1345-40fd-ce71-8ddacbd96d9c"
      },
      "source": [
        "# A lista `caixas` armazena as coordenadas das caixas delimitadoras (bounding boxes) detectadas.\n",
        "# Cada caixa corresponde a uma região de texto identificada pela rede neural.\n",
        "# As caixas são representadas como tuplas: (inicioX, inicioY, fimX, fimY), onde:\n",
        "# - `inicioX`, `inicioY`: Coordenadas do canto superior esquerdo da caixa.\n",
        "# - `fimX`, `fimY`: Coordenadas do canto inferior direito da caixa.\n",
        "caixas\n"
      ],
      "execution_count": null,
      "outputs": [
        {
          "output_type": "execute_result",
          "data": {
            "text/plain": [
              "[(156, 208, 190, 220),\n",
              " (157, 208, 187, 220),\n",
              " (157, 208, 186, 220),\n",
              " (158, 207, 186, 220),\n",
              " (156, 207, 187, 221),\n",
              " (157, 207, 188, 220),\n",
              " (158, 208, 187, 221),\n",
              " (158, 208, 187, 221),\n",
              " (157, 208, 188, 221)]"
            ]
          },
          "metadata": {
            "tags": []
          },
          "execution_count": 49
        }
      ]
    },
    {
      "cell_type": "code",
      "metadata": {
        "id": "1QJnbSta6m9k"
      },
      "source": [
        "# Aplica a supressão não máxima (Non-Max Suppression - NMS) para eliminar caixas delimitadoras sobrepostas.\n",
        "# `non_max_suppression` remove caixas redundantes mantendo apenas a mais confiável em cada região.\n",
        "# Isso ajuda a reduzir ruído e melhorar a precisão das detecções.\n",
        "\n",
        "# `np.array(caixas)`: Converte a lista de caixas delimitadoras em um array NumPy, necessário para a função NMS.\n",
        "# `probs=confiancas`: Passa os valores de confiança associados a cada caixa para que a NMS priorize as mais confiáveis.\n",
        "deteccoes = non_max_suppression(np.array(caixas), probs=confiancas)\n"
      ],
      "execution_count": null,
      "outputs": []
    },
    {
      "cell_type": "code",
      "metadata": {
        "colab": {
          "base_uri": "https://localhost:8080/"
        },
        "id": "HSyNm3T463xZ",
        "outputId": "2a5849cd-a6b2-424f-b382-492d5cbb8ed7"
      },
      "source": [
        "# A variável `deteccoes` armazena as caixas delimitadoras finais após a aplicação de supressão não máxima (NMS).\n",
        "# Cada elemento em `deteccoes` é uma caixa representada como uma tupla de coordenadas: (inicioX, inicioY, fimX, fimY).\n",
        "# Essas caixas são as mais confiáveis e não possuem sobreposições redundantes com outras caixas.\n",
        "deteccoes\n"
      ],
      "execution_count": null,
      "outputs": [
        {
          "output_type": "execute_result",
          "data": {
            "text/plain": [
              "array([[157, 208, 187, 220]])"
            ]
          },
          "metadata": {
            "tags": []
          },
          "execution_count": 53
        }
      ]
    },
    {
      "cell_type": "code",
      "metadata": {
        "colab": {
          "base_uri": "https://localhost:8080/"
        },
        "id": "Y_2ohdEf8eel",
        "outputId": "db26f3ab-97b6-4ac7-f46d-d403da36030b"
      },
      "source": [
        "# `proporcao_H` e `proporcao_W` representam as proporções de redimensionamento da imagem original para a entrada da rede.\n",
        "# Eles são usados para mapear as coordenadas das caixas delimitadoras da escala reduzida de volta para a escala original.\n",
        "# - `proporcao_H`: Proporção entre a altura da imagem original e a altura da imagem redimensionada (H).\n",
        "# - `proporcao_W`: Proporção entre a largura da imagem original e a largura da imagem redimensionada (W).\n",
        "proporcao_H, proporcao_W\n"
      ],
      "execution_count": null,
      "outputs": [
        {
          "output_type": "execute_result",
          "data": {
            "text/plain": [
              "(1.5, 2.34375)"
            ]
          },
          "metadata": {
            "tags": []
          },
          "execution_count": 55
        }
      ]
    },
    {
      "cell_type": "code",
      "metadata": {
        "colab": {
          "base_uri": "https://localhost:8080/",
          "height": 211
        },
        "id": "w12mGzhJ8Pkz",
        "outputId": "9aaf1ad6-638a-42a9-fc3a-33d3eb73b687"
      },
      "source": [
        "# Cria uma cópia da imagem original para preservar a imagem sem alterações.\n",
        "# A cópia será usada para desenhar as caixas delimitadoras sem afetar a imagem original.\n",
        "copia = original.copy()\n",
        "\n",
        "# Itera sobre as caixas delimitadoras detectadas na lista `deteccoes`.\n",
        "for (inicioX, inicioY, fimX, fimY) in deteccoes:\n",
        "    # Ajusta as coordenadas das caixas de volta para a escala original da imagem\n",
        "    inicioX = int(inicioX * proporcao_W)  # Multiplica pela proporção da largura\n",
        "    inicioY = int(inicioY * proporcao_H)  # Multiplica pela proporção da altura\n",
        "    fimX = int(fimX * proporcao_W)        # Multiplica pela proporção da largura\n",
        "    fimY = int(fimY * proporcao_H)        # Multiplica pela proporção da altura\n",
        "\n",
        "    # Define a região de interesse (ROI) da imagem, que corresponde à caixa delimitadora.\n",
        "    # A ROI é a parte da imagem que foi identificada como texto.\n",
        "    roi = copia[inicioY:fimY, inicioX:fimX]\n",
        "\n",
        "    # Desenha um retângulo verde na imagem original para marcar a área detectada como texto.\n",
        "    # A função `cv2.rectangle` desenha o retângulo nas coordenadas ajustadas.\n",
        "    cv2.rectangle(original, (inicioX, inicioY), (fimX, fimY), (0, 255, 0), 2)\n",
        "\n",
        "# Exibe a imagem com as caixas delimitadoras desenhadas.\n",
        "cv2_imshow(original)\n"
      ],
      "execution_count": null,
      "outputs": [
        {
          "output_type": "error",
          "ename": "NameError",
          "evalue": "name 'original' is not defined",
          "traceback": [
            "\u001b[0;31m---------------------------------------------------------------------------\u001b[0m",
            "\u001b[0;31mNameError\u001b[0m                                 Traceback (most recent call last)",
            "\u001b[0;32m<ipython-input-3-2abacbfe53d1>\u001b[0m in \u001b[0;36m<cell line: 1>\u001b[0;34m()\u001b[0m\n\u001b[0;32m----> 1\u001b[0;31m \u001b[0mcopia\u001b[0m \u001b[0;34m=\u001b[0m \u001b[0moriginal\u001b[0m\u001b[0;34m.\u001b[0m\u001b[0mcopy\u001b[0m\u001b[0;34m(\u001b[0m\u001b[0;34m)\u001b[0m\u001b[0;34m\u001b[0m\u001b[0;34m\u001b[0m\u001b[0m\n\u001b[0m\u001b[1;32m      2\u001b[0m \u001b[0;32mfor\u001b[0m \u001b[0;34m(\u001b[0m\u001b[0minicioX\u001b[0m\u001b[0;34m,\u001b[0m \u001b[0minicioY\u001b[0m\u001b[0;34m,\u001b[0m \u001b[0mfimX\u001b[0m\u001b[0;34m,\u001b[0m \u001b[0mfimY\u001b[0m\u001b[0;34m)\u001b[0m \u001b[0;32min\u001b[0m \u001b[0mdeteccoes\u001b[0m\u001b[0;34m:\u001b[0m\u001b[0;34m\u001b[0m\u001b[0;34m\u001b[0m\u001b[0m\n\u001b[1;32m      3\u001b[0m   \u001b[0;31m#print(inicioX, inicioY, fimX, fimY)\u001b[0m\u001b[0;34m\u001b[0m\u001b[0;34m\u001b[0m\u001b[0m\n\u001b[1;32m      4\u001b[0m   \u001b[0minicioX\u001b[0m \u001b[0;34m=\u001b[0m \u001b[0mint\u001b[0m\u001b[0;34m(\u001b[0m\u001b[0minicioX\u001b[0m \u001b[0;34m*\u001b[0m \u001b[0mproporcao_W\u001b[0m\u001b[0;34m)\u001b[0m\u001b[0;34m\u001b[0m\u001b[0;34m\u001b[0m\u001b[0m\n\u001b[1;32m      5\u001b[0m   \u001b[0minicioY\u001b[0m \u001b[0;34m=\u001b[0m \u001b[0mint\u001b[0m\u001b[0;34m(\u001b[0m\u001b[0minicioY\u001b[0m \u001b[0;34m*\u001b[0m \u001b[0mproporcao_H\u001b[0m\u001b[0;34m)\u001b[0m\u001b[0;34m\u001b[0m\u001b[0;34m\u001b[0m\u001b[0m\n",
            "\u001b[0;31mNameError\u001b[0m: name 'original' is not defined"
          ]
        }
      ]
    },
    {
      "cell_type": "code",
      "metadata": {
        "colab": {
          "base_uri": "https://localhost:8080/",
          "height": 55
        },
        "id": "elgJNe0q9emj",
        "outputId": "ee030859-319d-4d1a-c64e-987466c8358d"
      },
      "source": [
        "# Exibe a região de interesse (ROI) extraída da imagem.\n",
        "# A ROI corresponde à área da imagem que foi identificada como texto, ou seja,\n",
        "# a parte da imagem dentro das coordenadas da caixa delimitadora (inicioX, inicioY, fimX, fimY).\n",
        "cv2_imshow(roi)\n"
      ],
      "execution_count": null,
      "outputs": [
        {
          "output_type": "display_data",
          "data": {
            "image/png": "[encoded data removed]",
            "text/plain": [
              "<PIL.Image.Image image mode=RGB size=71x18 at 0x7F846A676490>"
            ]
          },
          "metadata": {
            "tags": []
          }
        }
      ]
    },
    {
      "cell_type": "code",
      "metadata": {
        "id": "BG0S2hZ79jNo"
      },
      "source": [
        "# Redimensiona a região de interesse (ROI) para aumentar sua resolução.\n",
        "# O redimensionamento é feito usando o fator de escala (fx, fy) de 1.5, ou seja, aumentando 50% da largura e altura.\n",
        "# A interpolação `cv2.INTER_CUBIC` é usada para obter uma melhor qualidade na ampliação da imagem.\n",
        "# Isso é útil quando a ROI precisa ser ampliada para melhor visualização ou análise.\n",
        "roi = cv2.resize(roi, None, fx=1.5, fy=1.5, interpolation=cv2.INTER_CUBIC)\n"
      ],
      "execution_count": null,
      "outputs": []
    },
    {
      "cell_type": "code",
      "metadata": {
        "colab": {
          "base_uri": "https://localhost:8080/",
          "height": 64
        },
        "id": "Oy0HKw8V9uAP",
        "outputId": "6be84639-5650-42f7-ec5f-aa3a8fd5db54"
      },
      "source": [
        "cv2_imshow(roi)"
      ],
      "execution_count": null,
      "outputs": [
        {
          "output_type": "display_data",
          "data": {
            "image/png": "[encoded data removed]",
            "text/plain": [
              "<PIL.Image.Image image mode=RGB size=106x27 at 0x7F846A78A6D0>"
            ]
          },
          "metadata": {
            "tags": []
          }
        }
      ]
    },
    {
      "cell_type": "markdown",
      "metadata": {
        "id": "qfbRzlCRZf-Z"
      },
      "source": [
        "# Reconhecimento do texto"
      ]
    },
    {
      "cell_type": "code",
      "metadata": {
        "id": "miRxiA4u95Ph"
      },
      "source": [
        "# Instala o Tesseract OCR, um mecanismo de reconhecimento óptico de caracteres.\n",
        "# O Tesseract é necessário para realizar o OCR em imagens e extrair o texto delas.\n",
        "!sudo apt install tesseract-ocr\n",
        "\n",
        "# Instala o pacote `pytesseract`, que é a interface Python para o Tesseract OCR.\n",
        "# O `pytesseract` permite que você use o Tesseract diretamente do Python para realizar OCR.\n",
        "!pip install pytesseract\n",
        "\n",
        "# Importa o módulo `pytesseract`, que fornece as funções para usar o Tesseract OCR.\n",
        "import pytesseract\n"
      ],
      "execution_count": null,
      "outputs": []
    },
    {
      "cell_type": "markdown",
      "metadata": {
        "id": "z-60HnuyuLpU"
      },
      "source": [
        "*Aviso: em setembro de 2021 o link para baixar o **por.traineddata** sofreu uma pequena alteração [ para mais explicações consulte a aula \"Resolvendo problema relacionado ao pacote de idiomas\" ]*\n",
        "\n",
        "Portanto, o link final ficou: https://github.com/tesseract-ocr/tessdata/blob/main/por.traineddata?raw=true (segue abaixo o comando completo)"
      ]
    },
    {
      "cell_type": "code",
      "metadata": {
        "id": "XQQUPvZZ97jy",
        "colab": {
          "base_uri": "https://localhost:8080/"
        },
        "outputId": "4376f009-90ed-419f-f895-461c252718ac"
      },
      "source": [
        "# Cria um diretório chamado `tessdata`, onde o modelo de idioma para o Tesseract será armazenado.\n",
        "# Esse diretório é usado para armazenar arquivos de dados treinados, como o modelo de idioma para o português.\n",
        "!mkdir tessdata\n",
        "\n",
        "# Baixa o arquivo de dados treinados do idioma português (`por.traineddata`) do repositório oficial do Tesseract no GitHub.\n",
        "# Esse arquivo contém o modelo necessário para que o Tesseract reconheça texto em português.\n",
        "# O arquivo é salvo no diretório `tessdata` que foi criado anteriormente.\n",
        "!wget -O ./tessdata/por.traineddata https://github.com/tesseract-ocr/tessdata/blob/main/por.traineddata?raw=true\n"
      ],
      "execution_count": null,
      "outputs": [
        {
          "output_type": "stream",
          "name": "stdout",
          "text": [
            "--2021-10-10 23:01:50--  https://github.com/tesseract-ocr/tessdata/blob/main/por.traineddata?raw=true\n",
            "Resolving github.com (github.com)... 140.82.114.3\n",
            "Connecting to github.com (github.com)|140.82.114.3|:443... connected.\n",
            "HTTP request sent, awaiting response... 302 Found\n",
            "Location: https://github.com/tesseract-ocr/tessdata/raw/main/por.traineddata [following]\n",
            "--2021-10-10 23:01:50--  https://github.com/tesseract-ocr/tessdata/raw/main/por.traineddata\n",
            "Reusing existing connection to github.com:443.\n",
            "HTTP request sent, awaiting response... 302 Found\n",
            "Location: https://raw.githubusercontent.com/tesseract-ocr/tessdata/main/por.traineddata [following]\n",
            "--2021-10-10 23:01:50--  https://raw.githubusercontent.com/tesseract-ocr/tessdata/main/por.traineddata\n",
            "Resolving raw.githubusercontent.com (raw.githubusercontent.com)... 185.199.108.133, 185.199.109.133, 185.199.110.133, ...\n",
            "Connecting to raw.githubusercontent.com (raw.githubusercontent.com)|185.199.108.133|:443... connected.\n",
            "HTTP request sent, awaiting response... 200 OK\n",
            "Length: 15336931 (15M) [application/octet-stream]\n",
            "Saving to: ‘./tessdata/por.traineddata’\n",
            "\n",
            "./tessdata/por.trai 100%[===================>]  14.63M  --.-KB/s    in 0.1s    \n",
            "\n",
            "2021-10-10 23:01:50 (114 MB/s) - ‘./tessdata/por.traineddata’ saved [15336931/15336931]\n",
            "\n"
          ]
        }
      ]
    },
    {
      "cell_type": "code",
      "metadata": {
        "colab": {
          "base_uri": "https://localhost:8080/"
        },
        "id": "mtUMBunv-AAH",
        "outputId": "7fc1294b-0b98-4d08-d6d0-5c25ae3a695d"
      },
      "source": [
        "# Exibe a ajuda sobre os modos de segmentação de página (PSM) do Tesseract.\n",
        "# O Tesseract utiliza diferentes modos de segmentação para lidar com diferentes layouts de texto nas imagens.\n",
        "# Esse comando lista as opções disponíveis para a segmentação de página, que ajudam o Tesseract a entender\n",
        "# como organizar e interpretar o texto na imagem.\n",
        "!tesseract --help-psm\n"
      ],
      "execution_count": null,
      "outputs": [
        {
          "output_type": "stream",
          "text": [
            "Page segmentation modes:\n",
            "  0    Orientation and script detection (OSD) only.\n",
            "  1    Automatic page segmentation with OSD.\n",
            "  2    Automatic page segmentation, but no OSD, or OCR.\n",
            "  3    Fully automatic page segmentation, but no OSD. (Default)\n",
            "  4    Assume a single column of text of variable sizes.\n",
            "  5    Assume a single uniform block of vertically aligned text.\n",
            "  6    Assume a single uniform block of text.\n",
            "  7    Treat the image as a single text line.\n",
            "  8    Treat the image as a single word.\n",
            "  9    Treat the image as a single word in a circle.\n",
            " 10    Treat the image as a single character.\n",
            " 11    Sparse text. Find as much text as possible in no particular order.\n",
            " 12    Sparse text with OSD.\n",
            " 13    Raw line. Treat the image as a single text line,\n",
            "       bypassing hacks that are Tesseract-specific.\n"
          ],
          "name": "stdout"
        }
      ]
    },
    {
      "cell_type": "code",
      "metadata": {
        "id": "YIwvVlpv-CMD"
      },
      "source": [
        "# Configura as opções para o Tesseract:\n",
        "# - `--tessdata-dir tessdata`: Especifica o diretório onde os dados treinados do Tesseract estão armazenados.\n",
        "#   Isso é necessário para informar ao Tesseract onde encontrar os modelos de idioma (por exemplo, `por.traineddata`).\n",
        "# - `--psm 7`: Define o modo de segmentação de página como `7`, que instrui o Tesseract a tratar a imagem como uma única linha de texto.\n",
        "# Isso é útil para imagens com texto em uma única linha ou em um formato de linha contínua.\n",
        "config_tesseract = \"--tessdata-dir tessdata --psm 7\"\n"
      ],
      "execution_count": null,
      "outputs": []
    },
    {
      "cell_type": "code",
      "metadata": {
        "colab": {
          "base_uri": "https://localhost:8080/",
          "height": 211
        },
        "id": "CmLk1-6H-66V",
        "outputId": "6d391d5b-fd17-4059-cf54-c5ade12720c2"
      },
      "source": [
        "# Cria uma cópia da imagem original para não modificar a imagem original ao desenhar as caixas delimitadoras.\n",
        "copia = original.copy()\n",
        "\n",
        "# Itera sobre as caixas delimitadoras detectadas em `deteccoes`.\n",
        "# Cada caixa é representada pelas coordenadas (inicioX, inicioY, fimX, fimY).\n",
        "for (inicioX, inicioY, fimX, fimY) in deteccoes:\n",
        "    # Ajusta as coordenadas das caixas para a escala original da imagem.\n",
        "    inicioX = int(inicioX * proporcao_W)\n",
        "    inicioY = int(inicioY * proporcao_H)\n",
        "    fimX = int(fimX * proporcao_W)\n",
        "    fimY = int(fimY * proporcao_H)\n",
        "\n",
        "    # Extrai a região de interesse (ROI) da imagem, correspondente à caixa delimitadora.\n",
        "    # A ROI é a área que o Tesseract irá processar para realizar o OCR.\n",
        "    roi = copia[inicioY:fimY, inicioX:fimX]\n",
        "\n",
        "    # Usa o Tesseract para realizar OCR na ROI extraída, especificando o idioma ('por' para português) e a configuração de PSM.\n",
        "    texto = pytesseract.image_to_string(roi, lang='por', config=config_tesseract)\n",
        "    print(texto)  # Exibe o texto extraído da ROI.\n",
        "\n",
        "    # Desenha um retângulo verde na imagem original para marcar a caixa delimitadora.\n",
        "    # A caixa é desenhada nas coordenadas ajustadas.\n",
        "    cv2.rectangle(original, (inicioX, inicioY), (fimX, fimY), (0, 255, 0), 2)\n",
        "\n",
        "# Exibe a imagem original com as caixas delimitadoras desenhadas.\n",
        "cv2_imshow(original)\n"
      ],
      "execution_count": null,
      "outputs": [
        {
          "output_type": "error",
          "ename": "NameError",
          "evalue": "name 'original' is not defined",
          "traceback": [
            "\u001b[0;31m---------------------------------------------------------------------------\u001b[0m",
            "\u001b[0;31mNameError\u001b[0m                                 Traceback (most recent call last)",
            "\u001b[0;32m<ipython-input-4-75e65be5be50>\u001b[0m in \u001b[0;36m<cell line: 1>\u001b[0;34m()\u001b[0m\n\u001b[0;32m----> 1\u001b[0;31m \u001b[0mcopia\u001b[0m \u001b[0;34m=\u001b[0m \u001b[0moriginal\u001b[0m\u001b[0;34m.\u001b[0m\u001b[0mcopy\u001b[0m\u001b[0;34m(\u001b[0m\u001b[0;34m)\u001b[0m\u001b[0;34m\u001b[0m\u001b[0;34m\u001b[0m\u001b[0m\n\u001b[0m\u001b[1;32m      2\u001b[0m \u001b[0;32mfor\u001b[0m \u001b[0;34m(\u001b[0m\u001b[0minicioX\u001b[0m\u001b[0;34m,\u001b[0m \u001b[0minicioY\u001b[0m\u001b[0;34m,\u001b[0m \u001b[0mfimX\u001b[0m\u001b[0;34m,\u001b[0m \u001b[0mfimY\u001b[0m\u001b[0;34m)\u001b[0m \u001b[0;32min\u001b[0m \u001b[0mdeteccoes\u001b[0m\u001b[0;34m:\u001b[0m\u001b[0;34m\u001b[0m\u001b[0;34m\u001b[0m\u001b[0m\n\u001b[1;32m      3\u001b[0m   \u001b[0minicioX\u001b[0m \u001b[0;34m=\u001b[0m \u001b[0mint\u001b[0m\u001b[0;34m(\u001b[0m\u001b[0minicioX\u001b[0m \u001b[0;34m*\u001b[0m \u001b[0mproporcao_W\u001b[0m\u001b[0;34m)\u001b[0m\u001b[0;34m\u001b[0m\u001b[0;34m\u001b[0m\u001b[0m\n\u001b[1;32m      4\u001b[0m   \u001b[0minicioY\u001b[0m \u001b[0;34m=\u001b[0m \u001b[0mint\u001b[0m\u001b[0;34m(\u001b[0m\u001b[0minicioY\u001b[0m \u001b[0;34m*\u001b[0m \u001b[0mproporcao_H\u001b[0m\u001b[0;34m)\u001b[0m\u001b[0;34m\u001b[0m\u001b[0;34m\u001b[0m\u001b[0m\n\u001b[1;32m      5\u001b[0m   \u001b[0mfimX\u001b[0m \u001b[0;34m=\u001b[0m \u001b[0mint\u001b[0m\u001b[0;34m(\u001b[0m\u001b[0mfimX\u001b[0m \u001b[0;34m*\u001b[0m \u001b[0mproporcao_W\u001b[0m\u001b[0;34m)\u001b[0m\u001b[0;34m\u001b[0m\u001b[0;34m\u001b[0m\u001b[0m\n",
            "\u001b[0;31mNameError\u001b[0m: name 'original' is not defined"
          ]
        }
      ]
    },
    {
      "cell_type": "markdown",
      "metadata": {
        "id": "eUqTgfHaeXbL"
      },
      "source": [
        "## Expandindo o ROI do texto"
      ]
    },
    {
      "cell_type": "code",
      "metadata": {
        "colab": {
          "base_uri": "https://localhost:8080/",
          "height": 211
        },
        "id": "aP2XzHl3_k1f",
        "outputId": "0f1ab878-3502-439e-c2a4-5bf90a75da7e"
      },
      "source": [
        "# Define uma margem extra ao redor das caixas delimitadoras para capturar mais contexto de texto.\n",
        "margem = 3\n",
        "\n",
        "# Cria uma cópia da imagem original para desenhar as caixas delimitadoras sem alterar a imagem original.\n",
        "copia = original.copy()\n",
        "\n",
        "# Itera sobre as caixas delimitadoras detectadas na lista `deteccoes`.\n",
        "# Cada caixa é representada pelas coordenadas (inicioX, inicioY, fimX, fimY).\n",
        "for (inicioX, inicioY, fimX, fimY) in deteccoes:\n",
        "    # Ajusta as coordenadas das caixas para a escala original da imagem.\n",
        "    inicioX = int(inicioX * proporcao_W)\n",
        "    inicioY = int(inicioY * proporcao_H)\n",
        "    fimX = int(fimX * proporcao_W)\n",
        "    fimY = int(fimY * proporcao_H)\n",
        "\n",
        "    # Extraí a região de interesse (ROI) da imagem, adicionando uma margem extra ao redor da caixa.\n",
        "    # A margem é usada para capturar um pouco mais de contexto da imagem em torno do texto detectado.\n",
        "    roi = copia[inicioY - margem:fimY + margem, inicioX - margem:fimX + margem]\n",
        "\n",
        "    # Exibe a ROI extraída, com a margem, para ver o conteúdo que será processado.\n",
        "    cv2_imshow(roi)\n",
        "\n",
        "    # Usa o Tesseract para realizar OCR na ROI extraída.\n",
        "    texto = pytesseract.image_to_string(roi, lang='por', config=config_tesseract)\n",
        "    print(texto)  # Exibe o texto extraído da ROI.\n",
        "\n",
        "    # Desenha um retângulo verde na imagem, incluindo a margem, para marcar a área da caixa delimitadora.\n",
        "    cv2.rectangle(copia, (inicioX - margem, inicioY - margem), (fimX + margem, fimY + margem), (0, 255, 0), 2)\n",
        "\n",
        "# Exibe a imagem original com as caixas delimitadoras (e margens) desenhadas.\n",
        "cv2_imshow(copia)"
      ],
      "execution_count": null,
      "outputs": [
        {
          "output_type": "error",
          "ename": "NameError",
          "evalue": "name 'original' is not defined",
          "traceback": [
            "\u001b[0;31m---------------------------------------------------------------------------\u001b[0m",
            "\u001b[0;31mNameError\u001b[0m                                 Traceback (most recent call last)",
            "\u001b[0;32m<ipython-input-5-25d36c32438d>\u001b[0m in \u001b[0;36m<cell line: 2>\u001b[0;34m()\u001b[0m\n\u001b[1;32m      1\u001b[0m \u001b[0mmargem\u001b[0m \u001b[0;34m=\u001b[0m \u001b[0;36m3\u001b[0m\u001b[0;34m\u001b[0m\u001b[0;34m\u001b[0m\u001b[0m\n\u001b[0;32m----> 2\u001b[0;31m \u001b[0mcopia\u001b[0m \u001b[0;34m=\u001b[0m \u001b[0moriginal\u001b[0m\u001b[0;34m.\u001b[0m\u001b[0mcopy\u001b[0m\u001b[0;34m(\u001b[0m\u001b[0;34m)\u001b[0m\u001b[0;34m\u001b[0m\u001b[0;34m\u001b[0m\u001b[0m\n\u001b[0m\u001b[1;32m      3\u001b[0m \u001b[0;32mfor\u001b[0m \u001b[0;34m(\u001b[0m\u001b[0minicioX\u001b[0m\u001b[0;34m,\u001b[0m \u001b[0minicioY\u001b[0m\u001b[0;34m,\u001b[0m \u001b[0mfimX\u001b[0m\u001b[0;34m,\u001b[0m \u001b[0mfimY\u001b[0m\u001b[0;34m)\u001b[0m \u001b[0;32min\u001b[0m \u001b[0mdeteccoes\u001b[0m\u001b[0;34m:\u001b[0m\u001b[0;34m\u001b[0m\u001b[0;34m\u001b[0m\u001b[0m\n\u001b[1;32m      4\u001b[0m   \u001b[0minicioX\u001b[0m \u001b[0;34m=\u001b[0m \u001b[0mint\u001b[0m\u001b[0;34m(\u001b[0m\u001b[0minicioX\u001b[0m \u001b[0;34m*\u001b[0m \u001b[0mproporcao_W\u001b[0m\u001b[0;34m)\u001b[0m\u001b[0;34m\u001b[0m\u001b[0;34m\u001b[0m\u001b[0m\n\u001b[1;32m      5\u001b[0m   \u001b[0minicioY\u001b[0m \u001b[0;34m=\u001b[0m \u001b[0mint\u001b[0m\u001b[0;34m(\u001b[0m\u001b[0minicioY\u001b[0m \u001b[0;34m*\u001b[0m \u001b[0mproporcao_H\u001b[0m\u001b[0;34m)\u001b[0m\u001b[0;34m\u001b[0m\u001b[0;34m\u001b[0m\u001b[0m\n",
            "\u001b[0;31mNameError\u001b[0m: name 'original' is not defined"
          ]
        }
      ]
    }
  ]
}